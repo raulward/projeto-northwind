{
 "cells": [
  {
   "cell_type": "markdown",
   "metadata": {},
   "source": [
    "## Glossário <h2>\n",
    "\n",
    "1. *Introdução* \n",
    "    * 1.1 Desafio\n",
    "    * 1.2 Contexto\n",
    "    * 1.3 Sobre os dados\n",
    "    * 1.4 Importação das bibliotecas\n",
    "    * 1.5 Escolha dos dados\n",
    "2. *ETL*\n",
    "    * 2.1 Importação dos dados\n",
    "    * 2.2 Limpeza e transformação dos dados\n",
    "3. *Análise* \n",
    "    * 3.1 Análise do Ticket Médio\n",
    "    * 3.2 Análise dos produtos\n",
    "    * 3.3 Análise de churn"
   ]
  },
  {
   "cell_type": "markdown",
   "metadata": {},
   "source": [
    "---"
   ]
  },
  {
   "cell_type": "markdown",
   "metadata": {},
   "source": [
    "### *1.4 Importação das bibliotecas* <h3>\n",
    "\n",
    "#### Bibliotecas utilizadas <h4>\n",
    "* pandas: Manipulação e limpeza dos dados\n",
    "* matplotlib e seaborn: Visualizações gráficas\n",
    "* numpy: Cálculos com os dados"
   ]
  },
  {
   "cell_type": "code",
   "execution_count": 2,
   "metadata": {},
   "outputs": [],
   "source": [
    "import pandas as pd\n",
    "import numpy as np\n",
    "import matplotlib.pyplot as plt\n",
    "import seaborn as sns"
   ]
  },
  {
   "cell_type": "markdown",
   "metadata": {},
   "source": [
    "---"
   ]
  },
  {
   "cell_type": "markdown",
   "metadata": {},
   "source": [
    "### 2. *ETL*"
   ]
  },
  {
   "cell_type": "markdown",
   "metadata": {},
   "source": [
    "#### 2.1 Importação dos dados <h4>"
   ]
  },
  {
   "cell_type": "code",
   "execution_count": 3,
   "metadata": {},
   "outputs": [],
   "source": [
    "orders = pd.read_csv(\"data/northwind/orders.csv\", sep=\";\")\n",
    "order_details = pd.read_csv(\"data/northwind/order_details.csv\", sep=\";\")\n",
    "customers = pd.read_csv(\"data/northwind/customers.csv\", sep=\";\")\n",
    "products = pd.read_csv(\"data/northwind/products.csv\", sep=\";\")\n",
    "employees = pd.read_csv(\"data/northwind/employees.csv\", sep=\";\")"
   ]
  },
  {
   "cell_type": "markdown",
   "metadata": {},
   "source": [
    "---"
   ]
  },
  {
   "cell_type": "markdown",
   "metadata": {},
   "source": [
    "#### 2.2 *Limpeza e tratamento dos dados* <h4>"
   ]
  },
  {
   "cell_type": "code",
   "execution_count": 4,
   "metadata": {},
   "outputs": [
    {
     "name": "stdout",
     "output_type": "stream",
     "text": [
      "O dataset orders tem 830 linhas e 14 colunas\n"
     ]
    },
    {
     "data": {
      "text/html": [
       "<div>\n",
       "<style scoped>\n",
       "    .dataframe tbody tr th:only-of-type {\n",
       "        vertical-align: middle;\n",
       "    }\n",
       "\n",
       "    .dataframe tbody tr th {\n",
       "        vertical-align: top;\n",
       "    }\n",
       "\n",
       "    .dataframe thead th {\n",
       "        text-align: right;\n",
       "    }\n",
       "</style>\n",
       "<table border=\"1\" class=\"dataframe\">\n",
       "  <thead>\n",
       "    <tr style=\"text-align: right;\">\n",
       "      <th></th>\n",
       "      <th>order_id</th>\n",
       "      <th>customer_id</th>\n",
       "      <th>employee_id</th>\n",
       "      <th>order_date</th>\n",
       "      <th>required_date</th>\n",
       "      <th>shipped_date</th>\n",
       "      <th>ship_via</th>\n",
       "      <th>freight</th>\n",
       "      <th>ship_name</th>\n",
       "      <th>ship_address</th>\n",
       "      <th>ship_city</th>\n",
       "      <th>ship_region</th>\n",
       "      <th>ship_postal_code</th>\n",
       "      <th>ship_country</th>\n",
       "    </tr>\n",
       "  </thead>\n",
       "  <tbody>\n",
       "    <tr>\n",
       "      <th>0</th>\n",
       "      <td>10248</td>\n",
       "      <td>VINET</td>\n",
       "      <td>5</td>\n",
       "      <td>1996-07-04</td>\n",
       "      <td>1996-08-01</td>\n",
       "      <td>1996-07-16</td>\n",
       "      <td>3</td>\n",
       "      <td>32.38</td>\n",
       "      <td>Vins et alcools Chevalier</td>\n",
       "      <td>59 rue de l'Abbaye</td>\n",
       "      <td>Reims</td>\n",
       "      <td>NaN</td>\n",
       "      <td>51100</td>\n",
       "      <td>France</td>\n",
       "    </tr>\n",
       "    <tr>\n",
       "      <th>1</th>\n",
       "      <td>10249</td>\n",
       "      <td>TOMSP</td>\n",
       "      <td>6</td>\n",
       "      <td>1996-07-05</td>\n",
       "      <td>1996-08-16</td>\n",
       "      <td>1996-07-10</td>\n",
       "      <td>1</td>\n",
       "      <td>11.61</td>\n",
       "      <td>Toms Spezialitäten</td>\n",
       "      <td>Luisenstr. 48</td>\n",
       "      <td>Münster</td>\n",
       "      <td>NaN</td>\n",
       "      <td>44087</td>\n",
       "      <td>Germany</td>\n",
       "    </tr>\n",
       "    <tr>\n",
       "      <th>2</th>\n",
       "      <td>10250</td>\n",
       "      <td>HANAR</td>\n",
       "      <td>4</td>\n",
       "      <td>1996-07-08</td>\n",
       "      <td>1996-08-05</td>\n",
       "      <td>1996-07-12</td>\n",
       "      <td>2</td>\n",
       "      <td>65.83</td>\n",
       "      <td>Hanari Carnes</td>\n",
       "      <td>Rua do Paço, 67</td>\n",
       "      <td>Rio de Janeiro</td>\n",
       "      <td>RJ</td>\n",
       "      <td>05454-876</td>\n",
       "      <td>Brazil</td>\n",
       "    </tr>\n",
       "    <tr>\n",
       "      <th>3</th>\n",
       "      <td>10251</td>\n",
       "      <td>VICTE</td>\n",
       "      <td>3</td>\n",
       "      <td>1996-07-08</td>\n",
       "      <td>1996-08-05</td>\n",
       "      <td>1996-07-15</td>\n",
       "      <td>1</td>\n",
       "      <td>41.34</td>\n",
       "      <td>Victuailles en stock</td>\n",
       "      <td>2, rue du Commerce</td>\n",
       "      <td>Lyon</td>\n",
       "      <td>NaN</td>\n",
       "      <td>69004</td>\n",
       "      <td>France</td>\n",
       "    </tr>\n",
       "    <tr>\n",
       "      <th>4</th>\n",
       "      <td>10252</td>\n",
       "      <td>SUPRD</td>\n",
       "      <td>4</td>\n",
       "      <td>1996-07-09</td>\n",
       "      <td>1996-08-06</td>\n",
       "      <td>1996-07-11</td>\n",
       "      <td>2</td>\n",
       "      <td>51.30</td>\n",
       "      <td>Suprêmes délices</td>\n",
       "      <td>Boulevard Tirou, 255</td>\n",
       "      <td>Charleroi</td>\n",
       "      <td>NaN</td>\n",
       "      <td>B-6000</td>\n",
       "      <td>Belgium</td>\n",
       "    </tr>\n",
       "  </tbody>\n",
       "</table>\n",
       "</div>"
      ],
      "text/plain": [
       "   order_id customer_id  employee_id  order_date required_date shipped_date  \\\n",
       "0     10248       VINET            5  1996-07-04    1996-08-01   1996-07-16   \n",
       "1     10249       TOMSP            6  1996-07-05    1996-08-16   1996-07-10   \n",
       "2     10250       HANAR            4  1996-07-08    1996-08-05   1996-07-12   \n",
       "3     10251       VICTE            3  1996-07-08    1996-08-05   1996-07-15   \n",
       "4     10252       SUPRD            4  1996-07-09    1996-08-06   1996-07-11   \n",
       "\n",
       "   ship_via  freight                  ship_name          ship_address  \\\n",
       "0         3    32.38  Vins et alcools Chevalier    59 rue de l'Abbaye   \n",
       "1         1    11.61         Toms Spezialitäten         Luisenstr. 48   \n",
       "2         2    65.83              Hanari Carnes       Rua do Paço, 67   \n",
       "3         1    41.34       Victuailles en stock    2, rue du Commerce   \n",
       "4         2    51.30           Suprêmes délices  Boulevard Tirou, 255   \n",
       "\n",
       "        ship_city ship_region ship_postal_code ship_country  \n",
       "0           Reims         NaN            51100       France  \n",
       "1         Münster         NaN            44087      Germany  \n",
       "2  Rio de Janeiro          RJ        05454-876       Brazil  \n",
       "3            Lyon         NaN            69004       France  \n",
       "4       Charleroi         NaN           B-6000      Belgium  "
      ]
     },
     "execution_count": 4,
     "metadata": {},
     "output_type": "execute_result"
    }
   ],
   "source": [
    "print(f\"O dataset orders tem {orders.shape[0]} linhas e {orders.shape[1]} colunas\")\n",
    "\n",
    "orders.head()"
   ]
  },
  {
   "cell_type": "code",
   "execution_count": 5,
   "metadata": {},
   "outputs": [
    {
     "name": "stdout",
     "output_type": "stream",
     "text": [
      "<class 'pandas.core.frame.DataFrame'>\n",
      "RangeIndex: 830 entries, 0 to 829\n",
      "Data columns (total 14 columns):\n",
      " #   Column            Non-Null Count  Dtype  \n",
      "---  ------            --------------  -----  \n",
      " 0   order_id          830 non-null    int64  \n",
      " 1   customer_id       830 non-null    object \n",
      " 2   employee_id       830 non-null    int64  \n",
      " 3   order_date        830 non-null    object \n",
      " 4   required_date     830 non-null    object \n",
      " 5   shipped_date      809 non-null    object \n",
      " 6   ship_via          830 non-null    int64  \n",
      " 7   freight           830 non-null    float64\n",
      " 8   ship_name         830 non-null    object \n",
      " 9   ship_address      830 non-null    object \n",
      " 10  ship_city         830 non-null    object \n",
      " 11  ship_region       323 non-null    object \n",
      " 12  ship_postal_code  811 non-null    object \n",
      " 13  ship_country      830 non-null    object \n",
      "dtypes: float64(1), int64(3), object(10)\n",
      "memory usage: 90.9+ KB\n"
     ]
    }
   ],
   "source": [
    "orders.info() "
   ]
  },
  {
   "cell_type": "markdown",
   "metadata": {},
   "source": [
    "As colunas 'ship_region', 'ship_postal_code' e 'ship_via' não fazem parte do foco da análise, por isso serão excluídas para deixar os datasets apenas com informações relevantes"
   ]
  },
  {
   "cell_type": "code",
   "execution_count": 6,
   "metadata": {},
   "outputs": [
    {
     "name": "stdout",
     "output_type": "stream",
     "text": [
      "<class 'pandas.core.frame.DataFrame'>\n",
      "RangeIndex: 830 entries, 0 to 829\n",
      "Data columns (total 11 columns):\n",
      " #   Column         Non-Null Count  Dtype  \n",
      "---  ------         --------------  -----  \n",
      " 0   order_id       830 non-null    int64  \n",
      " 1   customer_id    830 non-null    object \n",
      " 2   employee_id    830 non-null    int64  \n",
      " 3   order_date     830 non-null    object \n",
      " 4   required_date  830 non-null    object \n",
      " 5   shipped_date   809 non-null    object \n",
      " 6   freight        830 non-null    float64\n",
      " 7   ship_name      830 non-null    object \n",
      " 8   ship_address   830 non-null    object \n",
      " 9   ship_city      830 non-null    object \n",
      " 10  ship_country   830 non-null    object \n",
      "dtypes: float64(1), int64(2), object(8)\n",
      "memory usage: 71.5+ KB\n"
     ]
    }
   ],
   "source": [
    "orders.drop(columns=['ship_region', 'ship_postal_code', 'ship_via'], axis=1, inplace=True)\n",
    "\n",
    "orders.info()"
   ]
  },
  {
   "cell_type": "markdown",
   "metadata": {},
   "source": [
    "Além disso, as colunas *'order_date'*, *'required_date'* e *'shipped_date'* estão em formato de 'object' o que é *incorreto para datas*. Por isso, utilizaremos a função *\"to_datetime\"* do pandas para corrigir este erro."
   ]
  },
  {
   "cell_type": "code",
   "execution_count": null,
   "metadata": {},
   "outputs": [],
   "source": [
    "orders['order_date'] = pd.to_datetime(orders['order_date'])\n",
    "orders['required_date'] = pd.to_datetime(orders['required_date'])\n",
    "orders['shipped_date'] = pd.to_datetime(orders['shipped_date'])"
   ]
  },
  {
   "cell_type": "markdown",
   "metadata": {},
   "source": [
    "Foram criadas as colunas *\"order_year\"* (com o ano do pedido) e *\"year_month\"* (com o mês e ano do pedido) para poder ser utilizada na análise seguinte."
   ]
  },
  {
   "cell_type": "code",
   "execution_count": null,
   "metadata": {},
   "outputs": [
    {
     "data": {
      "text/html": [
       "<div>\n",
       "<style scoped>\n",
       "    .dataframe tbody tr th:only-of-type {\n",
       "        vertical-align: middle;\n",
       "    }\n",
       "\n",
       "    .dataframe tbody tr th {\n",
       "        vertical-align: top;\n",
       "    }\n",
       "\n",
       "    .dataframe thead th {\n",
       "        text-align: right;\n",
       "    }\n",
       "</style>\n",
       "<table border=\"1\" class=\"dataframe\">\n",
       "  <thead>\n",
       "    <tr style=\"text-align: right;\">\n",
       "      <th></th>\n",
       "      <th>order_year</th>\n",
       "      <th>year_month</th>\n",
       "    </tr>\n",
       "  </thead>\n",
       "  <tbody>\n",
       "    <tr>\n",
       "      <th>0</th>\n",
       "      <td>1996</td>\n",
       "      <td>1996-07</td>\n",
       "    </tr>\n",
       "    <tr>\n",
       "      <th>1</th>\n",
       "      <td>1996</td>\n",
       "      <td>1996-07</td>\n",
       "    </tr>\n",
       "    <tr>\n",
       "      <th>2</th>\n",
       "      <td>1996</td>\n",
       "      <td>1996-07</td>\n",
       "    </tr>\n",
       "    <tr>\n",
       "      <th>3</th>\n",
       "      <td>1996</td>\n",
       "      <td>1996-07</td>\n",
       "    </tr>\n",
       "    <tr>\n",
       "      <th>4</th>\n",
       "      <td>1996</td>\n",
       "      <td>1996-07</td>\n",
       "    </tr>\n",
       "    <tr>\n",
       "      <th>...</th>\n",
       "      <td>...</td>\n",
       "      <td>...</td>\n",
       "    </tr>\n",
       "    <tr>\n",
       "      <th>825</th>\n",
       "      <td>1998</td>\n",
       "      <td>1998-05</td>\n",
       "    </tr>\n",
       "    <tr>\n",
       "      <th>826</th>\n",
       "      <td>1998</td>\n",
       "      <td>1998-05</td>\n",
       "    </tr>\n",
       "    <tr>\n",
       "      <th>827</th>\n",
       "      <td>1998</td>\n",
       "      <td>1998-05</td>\n",
       "    </tr>\n",
       "    <tr>\n",
       "      <th>828</th>\n",
       "      <td>1998</td>\n",
       "      <td>1998-05</td>\n",
       "    </tr>\n",
       "    <tr>\n",
       "      <th>829</th>\n",
       "      <td>1998</td>\n",
       "      <td>1998-05</td>\n",
       "    </tr>\n",
       "  </tbody>\n",
       "</table>\n",
       "<p>830 rows × 2 columns</p>\n",
       "</div>"
      ],
      "text/plain": [
       "     order_year year_month\n",
       "0          1996    1996-07\n",
       "1          1996    1996-07\n",
       "2          1996    1996-07\n",
       "3          1996    1996-07\n",
       "4          1996    1996-07\n",
       "..          ...        ...\n",
       "825        1998    1998-05\n",
       "826        1998    1998-05\n",
       "827        1998    1998-05\n",
       "828        1998    1998-05\n",
       "829        1998    1998-05\n",
       "\n",
       "[830 rows x 2 columns]"
      ]
     },
     "execution_count": 8,
     "metadata": {},
     "output_type": "execute_result"
    }
   ],
   "source": [
    "orders['order_year'] = orders['order_date'].dt.year\n",
    "orders['year_month'] = orders['order_date'].dt.to_period('M')\n",
    "\n",
    "orders[['order_year', 'year_month']]"
   ]
  },
  {
   "cell_type": "code",
   "execution_count": 9,
   "metadata": {},
   "outputs": [
    {
     "data": {
      "text/plain": [
       "order_id          0\n",
       "customer_id       0\n",
       "employee_id       0\n",
       "order_date        0\n",
       "required_date     0\n",
       "shipped_date     21\n",
       "freight           0\n",
       "ship_name         0\n",
       "ship_address      0\n",
       "ship_city         0\n",
       "ship_country      0\n",
       "order_year        0\n",
       "year_month        0\n",
       "dtype: int64"
      ]
     },
     "execution_count": 9,
     "metadata": {},
     "output_type": "execute_result"
    }
   ],
   "source": [
    "orders.isna().sum()"
   ]
  },
  {
   "cell_type": "code",
   "execution_count": null,
   "metadata": {},
   "outputs": [
    {
     "name": "stdout",
     "output_type": "stream",
     "text": [
      "O dataset orders tem 2155 linhas e 5 colunas\n"
     ]
    },
    {
     "data": {
      "text/html": [
       "<div>\n",
       "<style scoped>\n",
       "    .dataframe tbody tr th:only-of-type {\n",
       "        vertical-align: middle;\n",
       "    }\n",
       "\n",
       "    .dataframe tbody tr th {\n",
       "        vertical-align: top;\n",
       "    }\n",
       "\n",
       "    .dataframe thead th {\n",
       "        text-align: right;\n",
       "    }\n",
       "</style>\n",
       "<table border=\"1\" class=\"dataframe\">\n",
       "  <thead>\n",
       "    <tr style=\"text-align: right;\">\n",
       "      <th></th>\n",
       "      <th>order_id</th>\n",
       "      <th>product_id</th>\n",
       "      <th>unit_price</th>\n",
       "      <th>quantity</th>\n",
       "      <th>discount</th>\n",
       "    </tr>\n",
       "  </thead>\n",
       "  <tbody>\n",
       "    <tr>\n",
       "      <th>0</th>\n",
       "      <td>10248</td>\n",
       "      <td>11</td>\n",
       "      <td>14.0</td>\n",
       "      <td>12</td>\n",
       "      <td>0.0</td>\n",
       "    </tr>\n",
       "    <tr>\n",
       "      <th>1</th>\n",
       "      <td>10248</td>\n",
       "      <td>42</td>\n",
       "      <td>9.8</td>\n",
       "      <td>10</td>\n",
       "      <td>0.0</td>\n",
       "    </tr>\n",
       "    <tr>\n",
       "      <th>2</th>\n",
       "      <td>10248</td>\n",
       "      <td>72</td>\n",
       "      <td>34.8</td>\n",
       "      <td>5</td>\n",
       "      <td>0.0</td>\n",
       "    </tr>\n",
       "    <tr>\n",
       "      <th>3</th>\n",
       "      <td>10249</td>\n",
       "      <td>14</td>\n",
       "      <td>18.6</td>\n",
       "      <td>9</td>\n",
       "      <td>0.0</td>\n",
       "    </tr>\n",
       "    <tr>\n",
       "      <th>4</th>\n",
       "      <td>10249</td>\n",
       "      <td>51</td>\n",
       "      <td>42.4</td>\n",
       "      <td>40</td>\n",
       "      <td>0.0</td>\n",
       "    </tr>\n",
       "  </tbody>\n",
       "</table>\n",
       "</div>"
      ],
      "text/plain": [
       "   order_id  product_id  unit_price  quantity  discount\n",
       "0     10248          11        14.0        12       0.0\n",
       "1     10248          42         9.8        10       0.0\n",
       "2     10248          72        34.8         5       0.0\n",
       "3     10249          14        18.6         9       0.0\n",
       "4     10249          51        42.4        40       0.0"
      ]
     },
     "execution_count": 10,
     "metadata": {},
     "output_type": "execute_result"
    }
   ],
   "source": [
    "print(f'O dataset orders tem {order_details.shape[0]} linhas e {order_details.shape[1]} colunas')\n",
    "\n",
    "order_details.head()"
   ]
  },
  {
   "cell_type": "code",
   "execution_count": 11,
   "metadata": {},
   "outputs": [
    {
     "name": "stdout",
     "output_type": "stream",
     "text": [
      "<class 'pandas.core.frame.DataFrame'>\n",
      "RangeIndex: 2155 entries, 0 to 2154\n",
      "Data columns (total 5 columns):\n",
      " #   Column      Non-Null Count  Dtype  \n",
      "---  ------      --------------  -----  \n",
      " 0   order_id    2155 non-null   int64  \n",
      " 1   product_id  2155 non-null   int64  \n",
      " 2   unit_price  2155 non-null   float64\n",
      " 3   quantity    2155 non-null   int64  \n",
      " 4   discount    2155 non-null   float64\n",
      "dtypes: float64(2), int64(3)\n",
      "memory usage: 84.3 KB\n"
     ]
    }
   ],
   "source": [
    "order_details.info()"
   ]
  },
  {
   "cell_type": "code",
   "execution_count": 3,
   "metadata": {},
   "outputs": [
    {
     "ename": "NameError",
     "evalue": "name 'order_details' is not defined",
     "output_type": "error",
     "traceback": [
      "\u001b[31m---------------------------------------------------------------------------\u001b[39m",
      "\u001b[31mNameError\u001b[39m                                 Traceback (most recent call last)",
      "\u001b[36mCell\u001b[39m\u001b[36m \u001b[39m\u001b[32mIn[3]\u001b[39m\u001b[32m, line 1\u001b[39m\n\u001b[32m----> \u001b[39m\u001b[32m1\u001b[39m \u001b[43morder_details\u001b[49m.isna().sum()\n",
      "\u001b[31mNameError\u001b[39m: name 'order_details' is not defined"
     ]
    }
   ],
   "source": [
    "order_details.isna().sum()"
   ]
  },
  {
   "cell_type": "code",
   "execution_count": 12,
   "metadata": {},
   "outputs": [
    {
     "name": "stdout",
     "output_type": "stream",
     "text": [
      "O dataset order_details tem 91 linhas e 11 colunas\n"
     ]
    },
    {
     "data": {
      "text/html": [
       "<div>\n",
       "<style scoped>\n",
       "    .dataframe tbody tr th:only-of-type {\n",
       "        vertical-align: middle;\n",
       "    }\n",
       "\n",
       "    .dataframe tbody tr th {\n",
       "        vertical-align: top;\n",
       "    }\n",
       "\n",
       "    .dataframe thead th {\n",
       "        text-align: right;\n",
       "    }\n",
       "</style>\n",
       "<table border=\"1\" class=\"dataframe\">\n",
       "  <thead>\n",
       "    <tr style=\"text-align: right;\">\n",
       "      <th></th>\n",
       "      <th>customer_id</th>\n",
       "      <th>company_name</th>\n",
       "      <th>contact_name</th>\n",
       "      <th>contact_title</th>\n",
       "      <th>address</th>\n",
       "      <th>city</th>\n",
       "      <th>region</th>\n",
       "      <th>postal_code</th>\n",
       "      <th>country</th>\n",
       "      <th>phone</th>\n",
       "      <th>fax</th>\n",
       "    </tr>\n",
       "  </thead>\n",
       "  <tbody>\n",
       "    <tr>\n",
       "      <th>0</th>\n",
       "      <td>ALFKI</td>\n",
       "      <td>Alfreds Futterkiste</td>\n",
       "      <td>Maria Anders</td>\n",
       "      <td>Sales Representative</td>\n",
       "      <td>Obere Str. 57</td>\n",
       "      <td>Berlin</td>\n",
       "      <td>NaN</td>\n",
       "      <td>12209</td>\n",
       "      <td>Germany</td>\n",
       "      <td>030-0074321</td>\n",
       "      <td>030-0076545</td>\n",
       "    </tr>\n",
       "    <tr>\n",
       "      <th>1</th>\n",
       "      <td>ANATR</td>\n",
       "      <td>Ana Trujillo Emparedados y helados</td>\n",
       "      <td>Ana Trujillo</td>\n",
       "      <td>Owner</td>\n",
       "      <td>Avda. de la Constitución 2222</td>\n",
       "      <td>México D.F.</td>\n",
       "      <td>NaN</td>\n",
       "      <td>05021</td>\n",
       "      <td>Mexico</td>\n",
       "      <td>(5) 555-4729</td>\n",
       "      <td>(5) 555-3745</td>\n",
       "    </tr>\n",
       "    <tr>\n",
       "      <th>2</th>\n",
       "      <td>ANTON</td>\n",
       "      <td>Antonio Moreno Taquería</td>\n",
       "      <td>Antonio Moreno</td>\n",
       "      <td>Owner</td>\n",
       "      <td>Mataderos  2312</td>\n",
       "      <td>México D.F.</td>\n",
       "      <td>NaN</td>\n",
       "      <td>05023</td>\n",
       "      <td>Mexico</td>\n",
       "      <td>(5) 555-3932</td>\n",
       "      <td>NaN</td>\n",
       "    </tr>\n",
       "    <tr>\n",
       "      <th>3</th>\n",
       "      <td>AROUT</td>\n",
       "      <td>Around the Horn</td>\n",
       "      <td>Thomas Hardy</td>\n",
       "      <td>Sales Representative</td>\n",
       "      <td>120 Hanover Sq.</td>\n",
       "      <td>London</td>\n",
       "      <td>NaN</td>\n",
       "      <td>WA1 1DP</td>\n",
       "      <td>UK</td>\n",
       "      <td>(171) 555-7788</td>\n",
       "      <td>(171) 555-6750</td>\n",
       "    </tr>\n",
       "    <tr>\n",
       "      <th>4</th>\n",
       "      <td>BERGS</td>\n",
       "      <td>Berglunds snabbköp</td>\n",
       "      <td>Christina Berglund</td>\n",
       "      <td>Order Administrator</td>\n",
       "      <td>Berguvsvägen  8</td>\n",
       "      <td>Luleå</td>\n",
       "      <td>NaN</td>\n",
       "      <td>S-958 22</td>\n",
       "      <td>Sweden</td>\n",
       "      <td>0921-12 34 65</td>\n",
       "      <td>0921-12 34 67</td>\n",
       "    </tr>\n",
       "  </tbody>\n",
       "</table>\n",
       "</div>"
      ],
      "text/plain": [
       "  customer_id                        company_name        contact_name  \\\n",
       "0       ALFKI                 Alfreds Futterkiste        Maria Anders   \n",
       "1       ANATR  Ana Trujillo Emparedados y helados        Ana Trujillo   \n",
       "2       ANTON             Antonio Moreno Taquería      Antonio Moreno   \n",
       "3       AROUT                     Around the Horn        Thomas Hardy   \n",
       "4       BERGS                  Berglunds snabbköp  Christina Berglund   \n",
       "\n",
       "          contact_title                        address         city region  \\\n",
       "0  Sales Representative                  Obere Str. 57       Berlin    NaN   \n",
       "1                 Owner  Avda. de la Constitución 2222  México D.F.    NaN   \n",
       "2                 Owner                Mataderos  2312  México D.F.    NaN   \n",
       "3  Sales Representative                120 Hanover Sq.       London    NaN   \n",
       "4   Order Administrator                Berguvsvägen  8        Luleå    NaN   \n",
       "\n",
       "  postal_code  country           phone             fax  \n",
       "0       12209  Germany     030-0074321     030-0076545  \n",
       "1       05021   Mexico    (5) 555-4729    (5) 555-3745  \n",
       "2       05023   Mexico    (5) 555-3932             NaN  \n",
       "3     WA1 1DP       UK  (171) 555-7788  (171) 555-6750  \n",
       "4    S-958 22   Sweden   0921-12 34 65   0921-12 34 67  "
      ]
     },
     "execution_count": 12,
     "metadata": {},
     "output_type": "execute_result"
    }
   ],
   "source": [
    "print(f\"O dataset order_details tem {customers.shape[0]} linhas e {customers.shape[1]} colunas\")\n",
    "\n",
    "customers.head()"
   ]
  },
  {
   "cell_type": "code",
   "execution_count": 13,
   "metadata": {},
   "outputs": [
    {
     "name": "stdout",
     "output_type": "stream",
     "text": [
      "<class 'pandas.core.frame.DataFrame'>\n",
      "RangeIndex: 91 entries, 0 to 90\n",
      "Data columns (total 11 columns):\n",
      " #   Column         Non-Null Count  Dtype \n",
      "---  ------         --------------  ----- \n",
      " 0   customer_id    91 non-null     object\n",
      " 1   company_name   91 non-null     object\n",
      " 2   contact_name   91 non-null     object\n",
      " 3   contact_title  91 non-null     object\n",
      " 4   address        91 non-null     object\n",
      " 5   city           91 non-null     object\n",
      " 6   region         31 non-null     object\n",
      " 7   postal_code    90 non-null     object\n",
      " 8   country        91 non-null     object\n",
      " 9   phone          91 non-null     object\n",
      " 10  fax            69 non-null     object\n",
      "dtypes: object(11)\n",
      "memory usage: 7.9+ KB\n"
     ]
    }
   ],
   "source": [
    "customers.info()"
   ]
  },
  {
   "cell_type": "code",
   "execution_count": 14,
   "metadata": {},
   "outputs": [
    {
     "name": "stdout",
     "output_type": "stream",
     "text": [
      "<class 'pandas.core.frame.DataFrame'>\n",
      "RangeIndex: 91 entries, 0 to 90\n",
      "Data columns (total 8 columns):\n",
      " #   Column         Non-Null Count  Dtype \n",
      "---  ------         --------------  ----- \n",
      " 0   customer_id    91 non-null     object\n",
      " 1   company_name   91 non-null     object\n",
      " 2   contact_name   91 non-null     object\n",
      " 3   contact_title  91 non-null     object\n",
      " 4   address        91 non-null     object\n",
      " 5   city           91 non-null     object\n",
      " 6   postal_code    90 non-null     object\n",
      " 7   country        91 non-null     object\n",
      "dtypes: object(8)\n",
      "memory usage: 5.8+ KB\n"
     ]
    }
   ],
   "source": [
    "customers.drop(columns=['fax', 'phone', 'region'], inplace=True)\n",
    "\n",
    "customers.info()"
   ]
  },
  {
   "cell_type": "code",
   "execution_count": 15,
   "metadata": {},
   "outputs": [
    {
     "data": {
      "text/plain": [
       "91"
      ]
     },
     "execution_count": 15,
     "metadata": {},
     "output_type": "execute_result"
    }
   ],
   "source": [
    "customers['customer_id'].nunique()"
   ]
  },
  {
   "cell_type": "code",
   "execution_count": 16,
   "metadata": {},
   "outputs": [
    {
     "name": "stdout",
     "output_type": "stream",
     "text": [
      "O dataset products tem 77 linhas e 10 colunas\n"
     ]
    },
    {
     "data": {
      "text/html": [
       "<div>\n",
       "<style scoped>\n",
       "    .dataframe tbody tr th:only-of-type {\n",
       "        vertical-align: middle;\n",
       "    }\n",
       "\n",
       "    .dataframe tbody tr th {\n",
       "        vertical-align: top;\n",
       "    }\n",
       "\n",
       "    .dataframe thead th {\n",
       "        text-align: right;\n",
       "    }\n",
       "</style>\n",
       "<table border=\"1\" class=\"dataframe\">\n",
       "  <thead>\n",
       "    <tr style=\"text-align: right;\">\n",
       "      <th></th>\n",
       "      <th>product_id</th>\n",
       "      <th>product_name</th>\n",
       "      <th>supplier_id</th>\n",
       "      <th>category_id</th>\n",
       "      <th>quantity_per_unit</th>\n",
       "      <th>unit_price</th>\n",
       "      <th>units_in_stock</th>\n",
       "      <th>units_on_order</th>\n",
       "      <th>reorder_level</th>\n",
       "      <th>discontinued</th>\n",
       "    </tr>\n",
       "  </thead>\n",
       "  <tbody>\n",
       "    <tr>\n",
       "      <th>0</th>\n",
       "      <td>1</td>\n",
       "      <td>Chai</td>\n",
       "      <td>8</td>\n",
       "      <td>1</td>\n",
       "      <td>10 boxes x 30 bags</td>\n",
       "      <td>18.00</td>\n",
       "      <td>39</td>\n",
       "      <td>0</td>\n",
       "      <td>10</td>\n",
       "      <td>1</td>\n",
       "    </tr>\n",
       "    <tr>\n",
       "      <th>1</th>\n",
       "      <td>2</td>\n",
       "      <td>Chang</td>\n",
       "      <td>1</td>\n",
       "      <td>1</td>\n",
       "      <td>24 - 12 oz bottles</td>\n",
       "      <td>19.00</td>\n",
       "      <td>17</td>\n",
       "      <td>40</td>\n",
       "      <td>25</td>\n",
       "      <td>1</td>\n",
       "    </tr>\n",
       "    <tr>\n",
       "      <th>2</th>\n",
       "      <td>3</td>\n",
       "      <td>Aniseed Syrup</td>\n",
       "      <td>1</td>\n",
       "      <td>2</td>\n",
       "      <td>12 - 550 ml bottles</td>\n",
       "      <td>10.00</td>\n",
       "      <td>13</td>\n",
       "      <td>70</td>\n",
       "      <td>25</td>\n",
       "      <td>0</td>\n",
       "    </tr>\n",
       "    <tr>\n",
       "      <th>3</th>\n",
       "      <td>4</td>\n",
       "      <td>Chef Anton's Cajun Seasoning</td>\n",
       "      <td>2</td>\n",
       "      <td>2</td>\n",
       "      <td>48 - 6 oz jars</td>\n",
       "      <td>22.00</td>\n",
       "      <td>53</td>\n",
       "      <td>0</td>\n",
       "      <td>0</td>\n",
       "      <td>0</td>\n",
       "    </tr>\n",
       "    <tr>\n",
       "      <th>4</th>\n",
       "      <td>5</td>\n",
       "      <td>Chef Anton's Gumbo Mix</td>\n",
       "      <td>2</td>\n",
       "      <td>2</td>\n",
       "      <td>36 boxes</td>\n",
       "      <td>21.35</td>\n",
       "      <td>0</td>\n",
       "      <td>0</td>\n",
       "      <td>0</td>\n",
       "      <td>1</td>\n",
       "    </tr>\n",
       "  </tbody>\n",
       "</table>\n",
       "</div>"
      ],
      "text/plain": [
       "   product_id                  product_name  supplier_id  category_id  \\\n",
       "0           1                          Chai            8            1   \n",
       "1           2                         Chang            1            1   \n",
       "2           3                 Aniseed Syrup            1            2   \n",
       "3           4  Chef Anton's Cajun Seasoning            2            2   \n",
       "4           5        Chef Anton's Gumbo Mix            2            2   \n",
       "\n",
       "     quantity_per_unit  unit_price  units_in_stock  units_on_order  \\\n",
       "0   10 boxes x 30 bags       18.00              39               0   \n",
       "1   24 - 12 oz bottles       19.00              17              40   \n",
       "2  12 - 550 ml bottles       10.00              13              70   \n",
       "3       48 - 6 oz jars       22.00              53               0   \n",
       "4             36 boxes       21.35               0               0   \n",
       "\n",
       "   reorder_level  discontinued  \n",
       "0             10             1  \n",
       "1             25             1  \n",
       "2             25             0  \n",
       "3              0             0  \n",
       "4              0             1  "
      ]
     },
     "execution_count": 16,
     "metadata": {},
     "output_type": "execute_result"
    }
   ],
   "source": [
    "print(f'O dataset products tem {products.shape[0]} linhas e {products.shape[1]} colunas')\n",
    "\n",
    "products.head()"
   ]
  },
  {
   "cell_type": "code",
   "execution_count": 17,
   "metadata": {},
   "outputs": [
    {
     "name": "stdout",
     "output_type": "stream",
     "text": [
      "<class 'pandas.core.frame.DataFrame'>\n",
      "RangeIndex: 77 entries, 0 to 76\n",
      "Data columns (total 10 columns):\n",
      " #   Column             Non-Null Count  Dtype  \n",
      "---  ------             --------------  -----  \n",
      " 0   product_id         77 non-null     int64  \n",
      " 1   product_name       77 non-null     object \n",
      " 2   supplier_id        77 non-null     int64  \n",
      " 3   category_id        77 non-null     int64  \n",
      " 4   quantity_per_unit  77 non-null     object \n",
      " 5   unit_price         77 non-null     float64\n",
      " 6   units_in_stock     77 non-null     int64  \n",
      " 7   units_on_order     77 non-null     int64  \n",
      " 8   reorder_level      77 non-null     int64  \n",
      " 9   discontinued       77 non-null     int64  \n",
      "dtypes: float64(1), int64(7), object(2)\n",
      "memory usage: 6.1+ KB\n"
     ]
    }
   ],
   "source": [
    "products.info()"
   ]
  },
  {
   "cell_type": "code",
   "execution_count": 18,
   "metadata": {},
   "outputs": [
    {
     "data": {
      "text/plain": [
       "77"
      ]
     },
     "execution_count": 18,
     "metadata": {},
     "output_type": "execute_result"
    }
   ],
   "source": [
    "products['product_id'].nunique()"
   ]
  },
  {
   "cell_type": "code",
   "execution_count": 19,
   "metadata": {},
   "outputs": [
    {
     "name": "stdout",
     "output_type": "stream",
     "text": [
      "O dataset employees tem 9 linhas e 18 colunas\n"
     ]
    },
    {
     "data": {
      "text/html": [
       "<div>\n",
       "<style scoped>\n",
       "    .dataframe tbody tr th:only-of-type {\n",
       "        vertical-align: middle;\n",
       "    }\n",
       "\n",
       "    .dataframe tbody tr th {\n",
       "        vertical-align: top;\n",
       "    }\n",
       "\n",
       "    .dataframe thead th {\n",
       "        text-align: right;\n",
       "    }\n",
       "</style>\n",
       "<table border=\"1\" class=\"dataframe\">\n",
       "  <thead>\n",
       "    <tr style=\"text-align: right;\">\n",
       "      <th></th>\n",
       "      <th>employee_id</th>\n",
       "      <th>last_name</th>\n",
       "      <th>first_name</th>\n",
       "      <th>title</th>\n",
       "      <th>title_of_courtesy</th>\n",
       "      <th>birth_date</th>\n",
       "      <th>hire_date</th>\n",
       "      <th>address</th>\n",
       "      <th>city</th>\n",
       "      <th>region</th>\n",
       "      <th>postal_code</th>\n",
       "      <th>country</th>\n",
       "      <th>home_phone</th>\n",
       "      <th>extension</th>\n",
       "      <th>photo</th>\n",
       "      <th>notes</th>\n",
       "      <th>reports_to</th>\n",
       "      <th>photo_path</th>\n",
       "    </tr>\n",
       "  </thead>\n",
       "  <tbody>\n",
       "    <tr>\n",
       "      <th>0</th>\n",
       "      <td>1</td>\n",
       "      <td>Davolio</td>\n",
       "      <td>Nancy</td>\n",
       "      <td>Sales Representative</td>\n",
       "      <td>Ms.</td>\n",
       "      <td>1948-12-08</td>\n",
       "      <td>1992-05-01</td>\n",
       "      <td>507 - 20th Ave. E.\\nApt. 2A</td>\n",
       "      <td>Seattle</td>\n",
       "      <td>WA</td>\n",
       "      <td>98122</td>\n",
       "      <td>USA</td>\n",
       "      <td>(206) 555-9857</td>\n",
       "      <td>5467</td>\n",
       "      <td>\\x</td>\n",
       "      <td>Education includes a BA in psychology from Col...</td>\n",
       "      <td>2.0</td>\n",
       "      <td>http://accweb/emmployees/davolio.bmp</td>\n",
       "    </tr>\n",
       "    <tr>\n",
       "      <th>1</th>\n",
       "      <td>2</td>\n",
       "      <td>Fuller</td>\n",
       "      <td>Andrew</td>\n",
       "      <td>Vice President, Sales</td>\n",
       "      <td>Dr.</td>\n",
       "      <td>1952-02-19</td>\n",
       "      <td>1992-08-14</td>\n",
       "      <td>908 W. Capital Way</td>\n",
       "      <td>Tacoma</td>\n",
       "      <td>WA</td>\n",
       "      <td>98401</td>\n",
       "      <td>USA</td>\n",
       "      <td>(206) 555-9482</td>\n",
       "      <td>3457</td>\n",
       "      <td>\\x</td>\n",
       "      <td>Andrew received his BTS commercial in 1974 and...</td>\n",
       "      <td>NaN</td>\n",
       "      <td>http://accweb/emmployees/fuller.bmp</td>\n",
       "    </tr>\n",
       "    <tr>\n",
       "      <th>2</th>\n",
       "      <td>3</td>\n",
       "      <td>Leverling</td>\n",
       "      <td>Janet</td>\n",
       "      <td>Sales Representative</td>\n",
       "      <td>Ms.</td>\n",
       "      <td>1963-08-30</td>\n",
       "      <td>1992-04-01</td>\n",
       "      <td>722 Moss Bay Blvd.</td>\n",
       "      <td>Kirkland</td>\n",
       "      <td>WA</td>\n",
       "      <td>98033</td>\n",
       "      <td>USA</td>\n",
       "      <td>(206) 555-3412</td>\n",
       "      <td>3355</td>\n",
       "      <td>\\x</td>\n",
       "      <td>Janet has a BS degree in chemistry from Boston...</td>\n",
       "      <td>2.0</td>\n",
       "      <td>http://accweb/emmployees/leverling.bmp</td>\n",
       "    </tr>\n",
       "    <tr>\n",
       "      <th>3</th>\n",
       "      <td>4</td>\n",
       "      <td>Peacock</td>\n",
       "      <td>Margaret</td>\n",
       "      <td>Sales Representative</td>\n",
       "      <td>Mrs.</td>\n",
       "      <td>1937-09-19</td>\n",
       "      <td>1993-05-03</td>\n",
       "      <td>4110 Old Redmond Rd.</td>\n",
       "      <td>Redmond</td>\n",
       "      <td>WA</td>\n",
       "      <td>98052</td>\n",
       "      <td>USA</td>\n",
       "      <td>(206) 555-8122</td>\n",
       "      <td>5176</td>\n",
       "      <td>\\x</td>\n",
       "      <td>Margaret holds a BA in English literature from...</td>\n",
       "      <td>2.0</td>\n",
       "      <td>http://accweb/emmployees/peacock.bmp</td>\n",
       "    </tr>\n",
       "    <tr>\n",
       "      <th>4</th>\n",
       "      <td>5</td>\n",
       "      <td>Buchanan</td>\n",
       "      <td>Steven</td>\n",
       "      <td>Sales Manager</td>\n",
       "      <td>Mr.</td>\n",
       "      <td>1955-03-04</td>\n",
       "      <td>1993-10-17</td>\n",
       "      <td>14 Garrett Hill</td>\n",
       "      <td>London</td>\n",
       "      <td>NaN</td>\n",
       "      <td>SW1 8JR</td>\n",
       "      <td>UK</td>\n",
       "      <td>(71) 555-4848</td>\n",
       "      <td>3453</td>\n",
       "      <td>\\x</td>\n",
       "      <td>Steven Buchanan graduated from St. Andrews Uni...</td>\n",
       "      <td>2.0</td>\n",
       "      <td>http://accweb/emmployees/buchanan.bmp</td>\n",
       "    </tr>\n",
       "  </tbody>\n",
       "</table>\n",
       "</div>"
      ],
      "text/plain": [
       "   employee_id  last_name first_name                  title title_of_courtesy  \\\n",
       "0            1    Davolio      Nancy   Sales Representative               Ms.   \n",
       "1            2     Fuller     Andrew  Vice President, Sales               Dr.   \n",
       "2            3  Leverling      Janet   Sales Representative               Ms.   \n",
       "3            4    Peacock   Margaret   Sales Representative              Mrs.   \n",
       "4            5   Buchanan     Steven          Sales Manager               Mr.   \n",
       "\n",
       "   birth_date   hire_date                      address      city region  \\\n",
       "0  1948-12-08  1992-05-01  507 - 20th Ave. E.\\nApt. 2A   Seattle     WA   \n",
       "1  1952-02-19  1992-08-14           908 W. Capital Way    Tacoma     WA   \n",
       "2  1963-08-30  1992-04-01           722 Moss Bay Blvd.  Kirkland     WA   \n",
       "3  1937-09-19  1993-05-03         4110 Old Redmond Rd.   Redmond     WA   \n",
       "4  1955-03-04  1993-10-17              14 Garrett Hill    London    NaN   \n",
       "\n",
       "  postal_code country      home_phone  extension photo  \\\n",
       "0       98122     USA  (206) 555-9857       5467    \\x   \n",
       "1       98401     USA  (206) 555-9482       3457    \\x   \n",
       "2       98033     USA  (206) 555-3412       3355    \\x   \n",
       "3       98052     USA  (206) 555-8122       5176    \\x   \n",
       "4     SW1 8JR      UK   (71) 555-4848       3453    \\x   \n",
       "\n",
       "                                               notes  reports_to  \\\n",
       "0  Education includes a BA in psychology from Col...         2.0   \n",
       "1  Andrew received his BTS commercial in 1974 and...         NaN   \n",
       "2  Janet has a BS degree in chemistry from Boston...         2.0   \n",
       "3  Margaret holds a BA in English literature from...         2.0   \n",
       "4  Steven Buchanan graduated from St. Andrews Uni...         2.0   \n",
       "\n",
       "                               photo_path  \n",
       "0    http://accweb/emmployees/davolio.bmp  \n",
       "1     http://accweb/emmployees/fuller.bmp  \n",
       "2  http://accweb/emmployees/leverling.bmp  \n",
       "3    http://accweb/emmployees/peacock.bmp  \n",
       "4   http://accweb/emmployees/buchanan.bmp  "
      ]
     },
     "execution_count": 19,
     "metadata": {},
     "output_type": "execute_result"
    }
   ],
   "source": [
    "print(f'O dataset employees tem {employees.shape[0]} linhas e {employees.shape[1]} colunas')\n",
    "\n",
    "employees.head()"
   ]
  },
  {
   "cell_type": "code",
   "execution_count": 20,
   "metadata": {},
   "outputs": [
    {
     "name": "stdout",
     "output_type": "stream",
     "text": [
      "<class 'pandas.core.frame.DataFrame'>\n",
      "RangeIndex: 9 entries, 0 to 8\n",
      "Data columns (total 18 columns):\n",
      " #   Column             Non-Null Count  Dtype  \n",
      "---  ------             --------------  -----  \n",
      " 0   employee_id        9 non-null      int64  \n",
      " 1   last_name          9 non-null      object \n",
      " 2   first_name         9 non-null      object \n",
      " 3   title              9 non-null      object \n",
      " 4   title_of_courtesy  9 non-null      object \n",
      " 5   birth_date         9 non-null      object \n",
      " 6   hire_date          9 non-null      object \n",
      " 7   address            9 non-null      object \n",
      " 8   city               9 non-null      object \n",
      " 9   region             5 non-null      object \n",
      " 10  postal_code        9 non-null      object \n",
      " 11  country            9 non-null      object \n",
      " 12  home_phone         9 non-null      object \n",
      " 13  extension          9 non-null      int64  \n",
      " 14  photo              9 non-null      object \n",
      " 15  notes              9 non-null      object \n",
      " 16  reports_to         8 non-null      float64\n",
      " 17  photo_path         9 non-null      object \n",
      "dtypes: float64(1), int64(2), object(15)\n",
      "memory usage: 1.4+ KB\n"
     ]
    }
   ],
   "source": [
    "employees.info()"
   ]
  },
  {
   "cell_type": "code",
   "execution_count": 21,
   "metadata": {},
   "outputs": [
    {
     "data": {
      "text/plain": [
       "9"
      ]
     },
     "execution_count": 21,
     "metadata": {},
     "output_type": "execute_result"
    }
   ],
   "source": [
    "employees['employee_id'].nunique()"
   ]
  },
  {
   "cell_type": "code",
   "execution_count": 22,
   "metadata": {},
   "outputs": [
    {
     "name": "stdout",
     "output_type": "stream",
     "text": [
      "linhas: 2155 colunas: 33\n"
     ]
    },
    {
     "data": {
      "text/plain": [
       "Index(['order_id', 'product_id', 'unit_price_x', 'quantity', 'discount',\n",
       "       'customer_id', 'employee_id', 'order_date', 'required_date',\n",
       "       'shipped_date', 'freight', 'ship_name', 'ship_address', 'ship_city',\n",
       "       'ship_country', 'order_year', 'year_month', 'product_name',\n",
       "       'supplier_id', 'category_id', 'quantity_per_unit', 'unit_price_y',\n",
       "       'units_in_stock', 'units_on_order', 'reorder_level', 'discontinued',\n",
       "       'company_name', 'contact_name', 'contact_title', 'address', 'city',\n",
       "       'postal_code', 'country'],\n",
       "      dtype='object')"
      ]
     },
     "execution_count": 22,
     "metadata": {},
     "output_type": "execute_result"
    }
   ],
   "source": [
    "df_1 = pd.merge(order_details, orders, on='order_id', how='inner')\n",
    "df_1 = pd.merge(df_1, products, on='product_id', how='inner')\n",
    "df_1 = pd.merge(df_1, customers, on='customer_id', how='inner')\n",
    "\n",
    "\n",
    "\n",
    "print(f'linhas: {df_1.shape[0]} colunas: {df_1.shape[1]}')\n",
    "df_1.columns"
   ]
  },
  {
   "cell_type": "code",
   "execution_count": 23,
   "metadata": {},
   "outputs": [
    {
     "data": {
      "text/html": [
       "<div>\n",
       "<style scoped>\n",
       "    .dataframe tbody tr th:only-of-type {\n",
       "        vertical-align: middle;\n",
       "    }\n",
       "\n",
       "    .dataframe tbody tr th {\n",
       "        vertical-align: top;\n",
       "    }\n",
       "\n",
       "    .dataframe thead th {\n",
       "        text-align: right;\n",
       "    }\n",
       "</style>\n",
       "<table border=\"1\" class=\"dataframe\">\n",
       "  <thead>\n",
       "    <tr style=\"text-align: right;\">\n",
       "      <th></th>\n",
       "      <th>order_id</th>\n",
       "      <th>product_id</th>\n",
       "      <th>unit_price</th>\n",
       "      <th>quantity</th>\n",
       "      <th>discount</th>\n",
       "      <th>customer_id</th>\n",
       "      <th>employee_id</th>\n",
       "      <th>order_date</th>\n",
       "      <th>required_date</th>\n",
       "      <th>shipped_date</th>\n",
       "      <th>...</th>\n",
       "      <th>units_on_order</th>\n",
       "      <th>reorder_level</th>\n",
       "      <th>discontinued</th>\n",
       "      <th>company_name</th>\n",
       "      <th>contact_name</th>\n",
       "      <th>contact_title</th>\n",
       "      <th>address</th>\n",
       "      <th>city</th>\n",
       "      <th>postal_code</th>\n",
       "      <th>country</th>\n",
       "    </tr>\n",
       "  </thead>\n",
       "  <tbody>\n",
       "    <tr>\n",
       "      <th>0</th>\n",
       "      <td>10248</td>\n",
       "      <td>11</td>\n",
       "      <td>14.0</td>\n",
       "      <td>12</td>\n",
       "      <td>0.0</td>\n",
       "      <td>VINET</td>\n",
       "      <td>5</td>\n",
       "      <td>1996-07-04</td>\n",
       "      <td>1996-08-01</td>\n",
       "      <td>1996-07-16</td>\n",
       "      <td>...</td>\n",
       "      <td>30</td>\n",
       "      <td>30</td>\n",
       "      <td>0</td>\n",
       "      <td>Vins et alcools Chevalier</td>\n",
       "      <td>Paul Henriot</td>\n",
       "      <td>Accounting Manager</td>\n",
       "      <td>59 rue de l'Abbaye</td>\n",
       "      <td>Reims</td>\n",
       "      <td>51100</td>\n",
       "      <td>France</td>\n",
       "    </tr>\n",
       "    <tr>\n",
       "      <th>1</th>\n",
       "      <td>10248</td>\n",
       "      <td>42</td>\n",
       "      <td>9.8</td>\n",
       "      <td>10</td>\n",
       "      <td>0.0</td>\n",
       "      <td>VINET</td>\n",
       "      <td>5</td>\n",
       "      <td>1996-07-04</td>\n",
       "      <td>1996-08-01</td>\n",
       "      <td>1996-07-16</td>\n",
       "      <td>...</td>\n",
       "      <td>0</td>\n",
       "      <td>0</td>\n",
       "      <td>1</td>\n",
       "      <td>Vins et alcools Chevalier</td>\n",
       "      <td>Paul Henriot</td>\n",
       "      <td>Accounting Manager</td>\n",
       "      <td>59 rue de l'Abbaye</td>\n",
       "      <td>Reims</td>\n",
       "      <td>51100</td>\n",
       "      <td>France</td>\n",
       "    </tr>\n",
       "    <tr>\n",
       "      <th>2</th>\n",
       "      <td>10248</td>\n",
       "      <td>72</td>\n",
       "      <td>34.8</td>\n",
       "      <td>5</td>\n",
       "      <td>0.0</td>\n",
       "      <td>VINET</td>\n",
       "      <td>5</td>\n",
       "      <td>1996-07-04</td>\n",
       "      <td>1996-08-01</td>\n",
       "      <td>1996-07-16</td>\n",
       "      <td>...</td>\n",
       "      <td>0</td>\n",
       "      <td>0</td>\n",
       "      <td>0</td>\n",
       "      <td>Vins et alcools Chevalier</td>\n",
       "      <td>Paul Henriot</td>\n",
       "      <td>Accounting Manager</td>\n",
       "      <td>59 rue de l'Abbaye</td>\n",
       "      <td>Reims</td>\n",
       "      <td>51100</td>\n",
       "      <td>France</td>\n",
       "    </tr>\n",
       "    <tr>\n",
       "      <th>3</th>\n",
       "      <td>10249</td>\n",
       "      <td>14</td>\n",
       "      <td>18.6</td>\n",
       "      <td>9</td>\n",
       "      <td>0.0</td>\n",
       "      <td>TOMSP</td>\n",
       "      <td>6</td>\n",
       "      <td>1996-07-05</td>\n",
       "      <td>1996-08-16</td>\n",
       "      <td>1996-07-10</td>\n",
       "      <td>...</td>\n",
       "      <td>0</td>\n",
       "      <td>0</td>\n",
       "      <td>0</td>\n",
       "      <td>Toms Spezialitäten</td>\n",
       "      <td>Karin Josephs</td>\n",
       "      <td>Marketing Manager</td>\n",
       "      <td>Luisenstr. 48</td>\n",
       "      <td>Münster</td>\n",
       "      <td>44087</td>\n",
       "      <td>Germany</td>\n",
       "    </tr>\n",
       "    <tr>\n",
       "      <th>4</th>\n",
       "      <td>10249</td>\n",
       "      <td>51</td>\n",
       "      <td>42.4</td>\n",
       "      <td>40</td>\n",
       "      <td>0.0</td>\n",
       "      <td>TOMSP</td>\n",
       "      <td>6</td>\n",
       "      <td>1996-07-05</td>\n",
       "      <td>1996-08-16</td>\n",
       "      <td>1996-07-10</td>\n",
       "      <td>...</td>\n",
       "      <td>0</td>\n",
       "      <td>10</td>\n",
       "      <td>0</td>\n",
       "      <td>Toms Spezialitäten</td>\n",
       "      <td>Karin Josephs</td>\n",
       "      <td>Marketing Manager</td>\n",
       "      <td>Luisenstr. 48</td>\n",
       "      <td>Münster</td>\n",
       "      <td>44087</td>\n",
       "      <td>Germany</td>\n",
       "    </tr>\n",
       "  </tbody>\n",
       "</table>\n",
       "<p>5 rows × 32 columns</p>\n",
       "</div>"
      ],
      "text/plain": [
       "   order_id  product_id  unit_price  quantity  discount customer_id  \\\n",
       "0     10248          11        14.0        12       0.0       VINET   \n",
       "1     10248          42         9.8        10       0.0       VINET   \n",
       "2     10248          72        34.8         5       0.0       VINET   \n",
       "3     10249          14        18.6         9       0.0       TOMSP   \n",
       "4     10249          51        42.4        40       0.0       TOMSP   \n",
       "\n",
       "   employee_id order_date required_date shipped_date  ...  units_on_order  \\\n",
       "0            5 1996-07-04    1996-08-01   1996-07-16  ...              30   \n",
       "1            5 1996-07-04    1996-08-01   1996-07-16  ...               0   \n",
       "2            5 1996-07-04    1996-08-01   1996-07-16  ...               0   \n",
       "3            6 1996-07-05    1996-08-16   1996-07-10  ...               0   \n",
       "4            6 1996-07-05    1996-08-16   1996-07-10  ...               0   \n",
       "\n",
       "  reorder_level discontinued               company_name   contact_name  \\\n",
       "0            30            0  Vins et alcools Chevalier   Paul Henriot   \n",
       "1             0            1  Vins et alcools Chevalier   Paul Henriot   \n",
       "2             0            0  Vins et alcools Chevalier   Paul Henriot   \n",
       "3             0            0         Toms Spezialitäten  Karin Josephs   \n",
       "4            10            0         Toms Spezialitäten  Karin Josephs   \n",
       "\n",
       "        contact_title             address     city  postal_code  country  \n",
       "0  Accounting Manager  59 rue de l'Abbaye    Reims        51100   France  \n",
       "1  Accounting Manager  59 rue de l'Abbaye    Reims        51100   France  \n",
       "2  Accounting Manager  59 rue de l'Abbaye    Reims        51100   France  \n",
       "3   Marketing Manager       Luisenstr. 48  Münster        44087  Germany  \n",
       "4   Marketing Manager       Luisenstr. 48  Münster        44087  Germany  \n",
       "\n",
       "[5 rows x 32 columns]"
      ]
     },
     "execution_count": 23,
     "metadata": {},
     "output_type": "execute_result"
    }
   ],
   "source": [
    "northwind = (df_1.drop(columns=['unit_price_y']).rename(columns={'unit_price_x':'unit_price'}))\n",
    "\n",
    "northwind.head()"
   ]
  },
  {
   "cell_type": "markdown",
   "metadata": {},
   "source": [
    "Removi a coluna 'unit_price_y' pois ela pode não refletir o valor da venda na hora de order_details."
   ]
  },
  {
   "cell_type": "markdown",
   "metadata": {},
   "source": [
    "### *Gerando métricas*"
   ]
  },
  {
   "cell_type": "code",
   "execution_count": null,
   "metadata": {},
   "outputs": [
    {
     "name": "stdout",
     "output_type": "stream",
     "text": [
      "O ticket médio da empresa é de 1525.05\n"
     ]
    }
   ],
   "source": [
    "northwind['total_item'] = northwind['unit_price'] * northwind['quantity'] * (1 - northwind['discount'])\n",
    "\n",
    "monthly_revenue = northwind['total_item'].sum()\n",
    "\n",
    "mean_ticket = monthly_revenue / northwind['order_id'].nunique()\n",
    "\n",
    "print(f'O ticket médio da empresa é de {mean_ticket.round(2)}')\n",
    "\n",
    "print(f'O ticket médio da empresa é de {mean_ticket.round(2)}')"
   ]
  },
  {
   "cell_type": "code",
   "execution_count": 1,
   "metadata": {},
   "outputs": [
    {
     "ename": "NameError",
     "evalue": "name 'northwind' is not defined",
     "output_type": "error",
     "traceback": [
      "\u001b[31m---------------------------------------------------------------------------\u001b[39m",
      "\u001b[31mNameError\u001b[39m                                 Traceback (most recent call last)",
      "\u001b[36mCell\u001b[39m\u001b[36m \u001b[39m\u001b[32mIn[1]\u001b[39m\u001b[32m, line 1\u001b[39m\n\u001b[32m----> \u001b[39m\u001b[32m1\u001b[39m total_items = \u001b[43mnorthwind\u001b[49m.groupby(\u001b[33m\"\u001b[39m\u001b[33morder_id\u001b[39m\u001b[33m\"\u001b[39m)[\u001b[33m\"\u001b[39m\u001b[33mtotal_item\u001b[39m\u001b[33m\"\u001b[39m].sum()\n\u001b[32m      3\u001b[39m median_value = total_items.median()\n\u001b[32m      5\u001b[39m fig, ax = plt.subplots(figsize=(\u001b[32m10\u001b[39m,\u001b[32m6\u001b[39m))\n",
      "\u001b[31mNameError\u001b[39m: name 'northwind' is not defined"
     ]
    }
   ],
   "source": [
    "total_items = northwind.groupby(\"order_id\")[\"total_item\"].sum()\n",
    "\n",
    "median_value = total_items.median()\n",
    "\n",
    "fig, ax = plt.subplots(figsize=(10,6))\n",
    "sns.boxplot(total_items, bins=20, color=\"Darkblue\", ax=ax)\n",
    "\n",
    "ax.set_title('Histograma do valor dos pedidos', loc='left', fontsize=14)\n",
    "ax.set_xlabel('Valor total do pedido')\n",
    "ax.set_ylabel('Contagem')\n",
    "\n",
    "ax.spines['top'].set_visible(False)\n",
    "ax.spines['right'].set_visible(False)\n",
    "\n",
    "plt.show()\n"
   ]
  },
  {
   "cell_type": "markdown",
   "metadata": {},
   "source": []
  },
  {
   "cell_type": "markdown",
   "metadata": {},
   "source": [
    "Agora, o ticket médio mensal da empresa"
   ]
  },
  {
   "cell_type": "code",
   "execution_count": 25,
   "metadata": {},
   "outputs": [],
   "source": [
    "monthly_revenue = northwind.groupby('year_month')['total_item'].sum()\n",
    "\n",
    "monthly_orders = northwind.groupby('year_month')['order_id'].nunique()\n",
    "\n",
    "monthly_ticket = monthly_revenue / monthly_orders\n",
    "\n",
    "monthly_mean_ticket = monthly_ticket.mean()"
   ]
  },
  {
   "cell_type": "code",
   "execution_count": 26,
   "metadata": {},
   "outputs": [
    {
     "data": {
      "image/png": "[encoded data removed]",
      "text/plain": [
       "<Figure size 1000x600 with 1 Axes>"
      ]
     },
     "metadata": {},
     "output_type": "display_data"
    }
   ],
   "source": [
    "fig, ax = plt.subplots(figsize=(10, 6))\n",
    "\n",
    "ax = sns.lineplot(x=monthly_revenue.index.astype(str), y=monthly_revenue.values)\n",
    "ax.set_title(\"Receita mensal ao longo dos meses\", loc='left', fontsize=14)\n",
    "ax.set_ylabel(\"Total em vendas\")\n",
    "ax.tick_params(axis='x', rotation=45, labelsize=8)\n",
    "\n",
    "ax.spines['top'].set_visible(False)\n",
    "ax.spines['right'].set_visible(False)\n",
    "\n",
    "plt.show()"
   ]
  },
  {
   "cell_type": "code",
   "execution_count": 131,
   "metadata": {},
   "outputs": [
    {
     "name": "stdout",
     "output_type": "stream",
     "text": [
      "Temos em média 93 pedidos por mes, no mes de maio de 1998 tivemos: 59\n"
     ]
    }
   ],
   "source": [
    "df_1998_05 = northwind[northwind[\"year_month\"] == \"1998-05\"]\n",
    "\n",
    "count = df_1998_05.groupby(\"order_id\")['order_id'].count().sum()\n",
    "\n",
    "mean_orders_by_month = northwind.groupby(\"year_month\")[\"order_id\"].count().mean()\n",
    "\n",
    "print(f\"Temos em média {int(mean_orders_by_month)} pedidos por mes, no mes de maio de 1998 tivemos: {count}\")"
   ]
  },
  {
   "cell_type": "code",
   "execution_count": 110,
   "metadata": {},
   "outputs": [
    {
     "data": {
      "text/plain": [
       "Timestamp('1998-05-06 00:00:00')"
      ]
     },
     "execution_count": 110,
     "metadata": {},
     "output_type": "execute_result"
    }
   ],
   "source": [
    "df_1998_05['order_date'].max()"
   ]
  },
  {
   "cell_type": "markdown",
   "metadata": {},
   "source": [
    "Plotando o gráfico do ticket mensal"
   ]
  },
  {
   "cell_type": "code",
   "execution_count": 27,
   "metadata": {},
   "outputs": [
    {
     "data": {
      "image/png": "[encoded data removed]",
      "text/plain": [
       "<Figure size 1000x600 with 1 Axes>"
      ]
     },
     "metadata": {},
     "output_type": "display_data"
    }
   ],
   "source": [
    "fig, ax = plt.subplots(figsize=(10, 6))\n",
    "\n",
    "ax = sns.lineplot(x=monthly_ticket.index.astype(str), y=monthly_ticket.values)\n",
    "ax.set_title(\"Ticket mensal ao longo dos meses\", loc='left', fontsize=14)\n",
    "ax.set_ylabel(\"Total em vendas\")\n",
    "ax.tick_params(axis='x', rotation=45, labelsize=8)\n",
    "\n",
    "ax.spines['top'].set_visible(False)\n",
    "ax.spines['right'].set_visible(False)\n",
    "\n",
    "plt.show()"
   ]
  },
  {
   "cell_type": "code",
   "execution_count": 28,
   "metadata": {},
   "outputs": [
    {
     "data": {
      "text/plain": [
       "year_month\n",
       "1996-07    22\n",
       "1996-08    25\n",
       "1996-09    23\n",
       "1996-10    26\n",
       "1996-11    25\n",
       "1996-12    31\n",
       "1997-01    33\n",
       "1997-02    29\n",
       "1997-03    30\n",
       "1997-04    31\n",
       "1997-05    32\n",
       "1997-06    30\n",
       "1997-07    33\n",
       "1997-08    33\n",
       "1997-09    37\n",
       "1997-10    38\n",
       "1997-11    34\n",
       "1997-12    48\n",
       "1998-01    55\n",
       "1998-02    54\n",
       "1998-03    73\n",
       "1998-04    74\n",
       "1998-05    14\n",
       "Freq: M, Name: order_id, dtype: int64"
      ]
     },
     "execution_count": 28,
     "metadata": {},
     "output_type": "execute_result"
    }
   ],
   "source": [
    "northwind.groupby(\"year_month\")[\"order_id\"].nunique()"
   ]
  },
  {
   "cell_type": "code",
   "execution_count": 29,
   "metadata": {},
   "outputs": [
    {
     "name": "stdout",
     "output_type": "stream",
     "text": [
      "Clientes sem pedido: {'FISSA', 'PARIS'}\n"
     ]
    }
   ],
   "source": [
    "clientes_totais = set(customers['customer_id'].unique())\n",
    "\n",
    "clientes_com_pedidos = set(northwind['customer_id'].unique())\n",
    "\n",
    "clientes_sem_pedido = clientes_totais - clientes_com_pedidos\n",
    "\n",
    "print(f\"Clientes sem pedido: {clientes_sem_pedido}\")\n"
   ]
  },
  {
   "cell_type": "code",
   "execution_count": 30,
   "metadata": {},
   "outputs": [
    {
     "data": {
      "text/plain": [
       "product_name\n",
       "Côte de Blaye              141396.73\n",
       "Thüringer Rostbratwurst     80368.67\n",
       "Raclette Courdavault        71155.70\n",
       "Tarte au sucre              47234.97\n",
       "Camembert Pierrot           46825.48\n",
       "Name: total_item, dtype: float64"
      ]
     },
     "execution_count": 30,
     "metadata": {},
     "output_type": "execute_result"
    }
   ],
   "source": [
    "top_products = northwind.groupby('product_name')['total_item'].sum()\n",
    "\n",
    "top_5_products = top_products.sort_values(ascending=False).head(5).round(2)\n",
    "\n",
    "top_5_products"
   ]
  },
  {
   "cell_type": "code",
   "execution_count": 130,
   "metadata": {},
   "outputs": [
    {
     "name": "stderr",
     "output_type": "stream",
     "text": [
      "C:\\Users\\raulw\\AppData\\Local\\Temp\\ipykernel_8568\\52181643.py:6: FutureWarning: \n",
      "\n",
      "Passing `palette` without assigning `hue` is deprecated and will be removed in v0.14.0. Assign the `y` variable to `hue` and set `legend=False` for the same effect.\n",
      "\n",
      "  ax = sns.barplot(x=top_5_products.values, y=top_5_products.index, palette=cores)\n"
     ]
    },
    {
     "data": {
      "image/png": "[encoded data removed]",
      "text/plain": [
       "<Figure size 1000x600 with 1 Axes>"
      ]
     },
     "metadata": {},
     "output_type": "display_data"
    }
   ],
   "source": [
    "fig, ax = plt.subplots(figsize=(10,6))\n",
    "\n",
    "# Invertendo a paleta de cores para valores mais altos ficarem mais escuros e mais baixos ficarem mais claros\n",
    "cores = sns.color_palette(\"Blues_d\", n_colors=10)[::-2]\n",
    "\n",
    "ax = sns.barplot(x=top_5_products.values, y=top_5_products.index, palette=cores)\n",
    "\n",
    "for i, (valor, nome) in enumerate(zip(top_5_products.values, top_5_products.index)):\n",
    "    ax.text(valor * 0.98, i, f\"$ {valor:,.2f}\", ha='right', va='center', color='white', fontsize=9, fontweight='bold')\n",
    "\n",
    "\n",
    "ax.spines['top'].set_visible(False)\n",
    "ax.spines['right'].set_visible(False)\n",
    "ax.spines['bottom'].set_visible(False)\n",
    "\n",
    "ax.set_title(\"Top 5 produtos por receita\", loc='left', fontsize=14)\n",
    "ax.set_ylabel(\"\")\n",
    "\n",
    "ax.xaxis.set_visible(False)\n",
    "\n",
    "plt.tight_layout()\n",
    "plt.show()\n",
    "\n"
   ]
  },
  {
   "cell_type": "code",
   "execution_count": 39,
   "metadata": {},
   "outputs": [
    {
     "data": {
      "text/plain": [
       "category_id\n",
       "1    267868.18\n",
       "4    234507.28\n",
       "3    167357.22\n",
       "6    163022.36\n",
       "8    131261.74\n",
       "Name: total_item, dtype: float64"
      ]
     },
     "execution_count": 39,
     "metadata": {},
     "output_type": "execute_result"
    }
   ],
   "source": [
    "top_categories = northwind.groupby('category_id')['total_item'].sum()\n",
    "\n",
    "top_5_categories = top_categories.sort_values(ascending=False).head(5).round(2)\n",
    "\n",
    "top_5_categories"
   ]
  },
  {
   "cell_type": "code",
   "execution_count": 56,
   "metadata": {},
   "outputs": [
    {
     "name": "stderr",
     "output_type": "stream",
     "text": [
      "C:\\Users\\raulw\\AppData\\Local\\Temp\\ipykernel_8568\\2227011839.py:3: FutureWarning: \n",
      "\n",
      "Passing `palette` without assigning `hue` is deprecated and will be removed in v0.14.0. Assign the `y` variable to `hue` and set `legend=False` for the same effect.\n",
      "\n",
      "  ax = sns.barplot(x=top_5_categories.values, y=top_5_categories.index.astype(str), palette=cores)\n"
     ]
    },
    {
     "data": {
      "image/png": "[encoded data removed]",
      "text/plain": [
       "<Figure size 3000x1800 with 1 Axes>"
      ]
     },
     "metadata": {},
     "output_type": "display_data"
    }
   ],
   "source": [
    "fig, ax = plt.subplots(figsize=(10, 6), dpi=300)\n",
    "\n",
    "ax = sns.barplot(x=top_5_categories.values, y=top_5_categories.index.astype(str), palette=cores)\n",
    "\n",
    "# Invertendo a paleta de cores para valores mais altos ficarem mais escuros e mais baixos ficarem mais claros\n",
    "cores = sns.color_palette(\"Blues_d\", n_colors=10)[::-2]\n",
    "\n",
    "ax.set_title(\"Top 5 categorias por receita\", loc='left', fontsize=14)\n",
    "ax.set_ylabel(\"Categoria\")\n",
    "\n",
    "for i, (valor, nome) in enumerate(zip(top_5_categories.values, top_5_categories.index)):\n",
    "    ax.text(valor * 0.98, i, f\"$ {valor:,.2f}\", ha='right', va='center', color='white', fontsize=9, fontweight='bold')\n",
    "\n",
    "ax.spines['top'].set_visible(False)\n",
    "ax.spines['right'].set_visible(False)\n",
    "ax.spines['bottom'].set_visible(False)\n",
    "\n",
    "ax.xaxis.set_visible(False)\n",
    "\n",
    "plt.show()"
   ]
  },
  {
   "cell_type": "markdown",
   "metadata": {},
   "source": [
    "Analisando a relacao entre quantidade e desconto"
   ]
  },
  {
   "cell_type": "code",
   "execution_count": 72,
   "metadata": {},
   "outputs": [
    {
     "data": {
      "text/html": [
       "<div>\n",
       "<style scoped>\n",
       "    .dataframe tbody tr th:only-of-type {\n",
       "        vertical-align: middle;\n",
       "    }\n",
       "\n",
       "    .dataframe tbody tr th {\n",
       "        vertical-align: top;\n",
       "    }\n",
       "\n",
       "    .dataframe thead th {\n",
       "        text-align: right;\n",
       "    }\n",
       "</style>\n",
       "<table border=\"1\" class=\"dataframe\">\n",
       "  <thead>\n",
       "    <tr style=\"text-align: right;\">\n",
       "      <th></th>\n",
       "      <th>quantity</th>\n",
       "      <th>mean_discount</th>\n",
       "    </tr>\n",
       "    <tr>\n",
       "      <th>order_id</th>\n",
       "      <th></th>\n",
       "      <th></th>\n",
       "    </tr>\n",
       "  </thead>\n",
       "  <tbody>\n",
       "    <tr>\n",
       "      <th>10248</th>\n",
       "      <td>27</td>\n",
       "      <td>0.000000</td>\n",
       "    </tr>\n",
       "    <tr>\n",
       "      <th>10249</th>\n",
       "      <td>49</td>\n",
       "      <td>0.000000</td>\n",
       "    </tr>\n",
       "    <tr>\n",
       "      <th>10250</th>\n",
       "      <td>60</td>\n",
       "      <td>0.100000</td>\n",
       "    </tr>\n",
       "    <tr>\n",
       "      <th>10251</th>\n",
       "      <td>41</td>\n",
       "      <td>0.033333</td>\n",
       "    </tr>\n",
       "    <tr>\n",
       "      <th>10252</th>\n",
       "      <td>105</td>\n",
       "      <td>0.033333</td>\n",
       "    </tr>\n",
       "    <tr>\n",
       "      <th>...</th>\n",
       "      <td>...</td>\n",
       "      <td>...</td>\n",
       "    </tr>\n",
       "    <tr>\n",
       "      <th>11073</th>\n",
       "      <td>30</td>\n",
       "      <td>0.000000</td>\n",
       "    </tr>\n",
       "    <tr>\n",
       "      <th>11074</th>\n",
       "      <td>14</td>\n",
       "      <td>0.050000</td>\n",
       "    </tr>\n",
       "    <tr>\n",
       "      <th>11075</th>\n",
       "      <td>42</td>\n",
       "      <td>0.150000</td>\n",
       "    </tr>\n",
       "    <tr>\n",
       "      <th>11076</th>\n",
       "      <td>50</td>\n",
       "      <td>0.250000</td>\n",
       "    </tr>\n",
       "    <tr>\n",
       "      <th>11077</th>\n",
       "      <td>72</td>\n",
       "      <td>0.027600</td>\n",
       "    </tr>\n",
       "  </tbody>\n",
       "</table>\n",
       "<p>830 rows × 2 columns</p>\n",
       "</div>"
      ],
      "text/plain": [
       "          quantity  mean_discount\n",
       "order_id                         \n",
       "10248           27       0.000000\n",
       "10249           49       0.000000\n",
       "10250           60       0.100000\n",
       "10251           41       0.033333\n",
       "10252          105       0.033333\n",
       "...            ...            ...\n",
       "11073           30       0.000000\n",
       "11074           14       0.050000\n",
       "11075           42       0.150000\n",
       "11076           50       0.250000\n",
       "11077           72       0.027600\n",
       "\n",
       "[830 rows x 2 columns]"
      ]
     },
     "execution_count": 72,
     "metadata": {},
     "output_type": "execute_result"
    }
   ],
   "source": [
    "quantity_by_order_id = northwind.groupby(\"order_id\")[\"quantity\"].sum()\n",
    "\n",
    "quantity_by_order_id\n",
    "\n",
    "discount_by_order_id = northwind.groupby(\"order_id\")[\"discount\"].mean()\n",
    "\n",
    "discount_by_order_id\n",
    "\n",
    "df_quantity_per_discount = pd.DataFrame({'quantity': quantity_by_order_id.values, 'mean_discount': discount_by_order_id})\n",
    "\n",
    "df_quantity_per_discount"
   ]
  },
  {
   "cell_type": "code",
   "execution_count": null,
   "metadata": {},
   "outputs": [
    {
     "data": {
      "image/png": "[encoded data removed]",
      "text/plain": [
       "<Figure size 1000x600 with 1 Axes>"
      ]
     },
     "metadata": {},
     "output_type": "display_data"
    },
    {
     "name": "stdout",
     "output_type": "stream",
     "text": [
      "A correlacao entre desconto e quantidade de itens é: 0.16\n"
     ]
    }
   ],
   "source": [
    "fig, ax = plt.subplots(figsize=(10, 6))\n",
    "\n",
    "sns.regplot(\n",
    "    x=df_quantity_per_discount['mean_discount'] * 100,  \n",
    "    y=df_quantity_per_discount['quantity'],\n",
    "    scatter_kws={'alpha': 0.5}\n",
    ")\n",
    "ax.spines['top'].set_visible(False)\n",
    "ax.spines['right'].set_visible(False)\n",
    "ax.set_title('Relacao entre desconto e quantidade de itens comprados', loc='left', fontsize=14)\n",
    "ax.set_ylabel('quantidade')\n",
    "ax.set_xlabel('desconto médio(%)')\n",
    "\n",
    "plt.show()\n",
    "\n",
    "corr = (np.corrcoef(df_quantity_per_discount['quantity'], df_quantity_per_discount['mean_discount'])[0][1]).round(2)\n",
    "\n",
    "print(f'A correlacao entre desconto e quantidade de itens é: {corr}')"
   ]
  }
 ],
 "metadata": {
  "kernelspec": {
   "display_name": "venv",
   "language": "python",
   "name": "python3"
  },
  "language_info": {
   "codemirror_mode": {
    "name": "ipython",
    "version": 3
   },
   "file_extension": ".py",
   "mimetype": "text/x-python",
   "name": "python",
   "nbconvert_exporter": "python",
   "pygments_lexer": "ipython3",
   "version": "3.12.9"
  }
 },
 "nbformat": 4,
 "nbformat_minor": 2
}
